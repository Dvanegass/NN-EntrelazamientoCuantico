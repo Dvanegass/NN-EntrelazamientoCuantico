{
 "cells": [
  {
   "cell_type": "markdown",
   "id": "b5c8425c",
   "metadata": {
    "id": "fEhZtWlBFt0l",
    "papermill": {
     "duration": 0.006404,
     "end_time": "2023-10-26T05:26:40.895796",
     "exception": false,
     "start_time": "2023-10-26T05:26:40.889392",
     "status": "completed"
    },
    "tags": []
   },
   "source": [
    "# Data Generation\n",
    "\n",
    "In this section we generate all the data for training the model, using Haar states."
   ]
  },
  {
   "cell_type": "code",
   "execution_count": 1,
   "id": "48395799",
   "metadata": {
    "execution": {
     "iopub.execute_input": "2023-10-26T05:26:40.910154Z",
     "iopub.status.busy": "2023-10-26T05:26:40.909259Z",
     "iopub.status.idle": "2023-10-26T05:26:40.922348Z",
     "shell.execute_reply": "2023-10-26T05:26:40.921585Z"
    },
    "id": "uxW07JhCF6Dn",
    "papermill": {
     "duration": 0.022345,
     "end_time": "2023-10-26T05:26:40.924235",
     "exception": false,
     "start_time": "2023-10-26T05:26:40.901890",
     "status": "completed"
    },
    "tags": []
   },
   "outputs": [],
   "source": [
    "# @title Pauli Matrices\n",
    "# @markdown In this block we create a function to get all the Pauli matrices on an array.\n",
    "\n",
    "\n",
    "def pauli():\n",
    "  \"\"\"Get all the Pauli Matrices.\"\"\"\n",
    "  from numpy import zeros, array\n",
    "\n",
    "  s = zeros([3,2,2]) + 1j*zeros([3,2,2])\n",
    "  s[0] = array([[1, 0],[0, -1]])\n",
    "  s[1] = array([[0, 1],[ 1, 0]])\n",
    "  s[2] = array([[0, -1j],[1j, 0]])\n",
    "  return s\n"
   ]
  },
  {
   "cell_type": "code",
   "execution_count": 2,
   "id": "9717e2f4",
   "metadata": {
    "execution": {
     "iopub.execute_input": "2023-10-26T05:26:40.936324Z",
     "iopub.status.busy": "2023-10-26T05:26:40.936086Z",
     "iopub.status.idle": "2023-10-26T05:26:40.943212Z",
     "shell.execute_reply": "2023-10-26T05:26:40.942501Z"
    },
    "id": "7J7UbHChG3W5",
    "papermill": {
     "duration": 0.015222,
     "end_time": "2023-10-26T05:26:40.944986",
     "exception": false,
     "start_time": "2023-10-26T05:26:40.929764",
     "status": "completed"
    },
    "tags": []
   },
   "outputs": [],
   "source": [
    "# @title Random Haar State\n",
    "# @markdown in this block we define a random Haar state generation function.\n",
    "\n",
    "def random_haar_state(dim,rank):\n",
    "  \"\"\"Generate a random Haar state.\"\"\"\n",
    "  import numpy.random as random\n",
    "  from numpy import divide, diagonal, identity, trace\n",
    "  import numpy.linalg as la\n",
    "\n",
    "  A = random.normal(0,1,(dim,dim))+1j*random.normal(0,1,(dim,dim))\n",
    "  q,r = la.qr(A,mode=\"complete\")\n",
    "  r  = divide(diagonal(r),abs(diagonal(r)))*identity(dim)\n",
    "  rU = q@r\n",
    "  B = random.normal(0,1,(dim,rank))+1j*random.normal(0,1,(dim,rank))\n",
    "  B = B@B.T.conj()\n",
    "  rho = (identity(dim)+rU)@B@(identity(dim)+rU.T.conj())\n",
    "  return rho/trace(rho)"
   ]
  },
  {
   "cell_type": "code",
   "execution_count": 3,
   "id": "01edc429",
   "metadata": {
    "execution": {
     "iopub.execute_input": "2023-10-26T05:26:40.956551Z",
     "iopub.status.busy": "2023-10-26T05:26:40.956295Z",
     "iopub.status.idle": "2023-10-26T05:26:40.962382Z",
     "shell.execute_reply": "2023-10-26T05:26:40.961713Z"
    },
    "id": "am9mPq_pNT-K",
    "papermill": {
     "duration": 0.01386,
     "end_time": "2023-10-26T05:26:40.964158",
     "exception": false,
     "start_time": "2023-10-26T05:26:40.950298",
     "status": "completed"
    },
    "tags": []
   },
   "outputs": [],
   "source": [
    "# @title Random Haar Pure State\n",
    "# @markdown In this block we define a random Haar pure state generation function.\n",
    "\n",
    "def random_haar_pure_state(dim,n):\n",
    "  \"\"\"Generate a random Haar pure state.\"\"\"\n",
    "  import numpy.linalg as la\n",
    "  from numpy import array, dot, random\n",
    "\n",
    "  rpure = random.normal(0,1,[dim,n]) + 1j*random.normal(0,1,[dim,n])\n",
    "  rpure = rpure/la.norm(rpure,axis=0)\n",
    "  rhon = array([dot(rpure[:,[i]],rpure[:,[i]].conjugate().transpose())  for i in range(n)])\n",
    "  # rhon = reshape(rhon,[n,4])\n",
    "  return rhon"
   ]
  },
  {
   "cell_type": "code",
   "execution_count": 4,
   "id": "9ccdf59b",
   "metadata": {
    "execution": {
     "iopub.execute_input": "2023-10-26T05:26:40.975840Z",
     "iopub.status.busy": "2023-10-26T05:26:40.975577Z",
     "iopub.status.idle": "2023-10-26T05:26:40.982345Z",
     "shell.execute_reply": "2023-10-26T05:26:40.981585Z"
    },
    "id": "1pFsTUQiK1TI",
    "papermill": {
     "duration": 0.014764,
     "end_time": "2023-10-26T05:26:40.984195",
     "exception": false,
     "start_time": "2023-10-26T05:26:40.969431",
     "status": "completed"
    },
    "tags": []
   },
   "outputs": [],
   "source": [
    "# @title Mutually Unbiased Basis Projectors\n",
    "# @markdown Here we define one qubit Pauli Projectors\n",
    "\n",
    "def mubpom():\n",
    "  \"\"\"Returns the 1-qubit Pauli projectors.\"\"\"\n",
    "  from numpy import array, zeros, sqrt, transpose, conjugate\n",
    "\n",
    "  p1 = array([1,0])\n",
    "  p2 = array([0,1])\n",
    "  mub = zeros([6,1,2])+1j*zeros([6,1,2])\n",
    "  mub[0] = p1\n",
    "  mub[1] = p2\n",
    "  mub[2] = 1/sqrt(2)*(p1+p2)\n",
    "  mub[3] = 1/sqrt(2)*(p1-p2)\n",
    "  mub[4] = 1/sqrt(2)*(p1+1j*p2)\n",
    "  mub[5] = 1/sqrt(2)*(p1-1j*p2)\n",
    "  mubp = [transpose(mub[i])@conjugate(mub[i]) for i in range(6)]\n",
    "  return mubp"
   ]
  },
  {
   "cell_type": "code",
   "execution_count": 5,
   "id": "f71f474e",
   "metadata": {
    "execution": {
     "iopub.execute_input": "2023-10-26T05:26:40.996045Z",
     "iopub.status.busy": "2023-10-26T05:26:40.995808Z",
     "iopub.status.idle": "2023-10-26T05:26:41.001462Z",
     "shell.execute_reply": "2023-10-26T05:26:41.000578Z"
    },
    "id": "t14Hfx04JIOp",
    "papermill": {
     "duration": 0.013858,
     "end_time": "2023-10-26T05:26:41.003288",
     "exception": false,
     "start_time": "2023-10-26T05:26:40.989430",
     "status": "completed"
    },
    "tags": []
   },
   "outputs": [],
   "source": [
    "# @title Third Mutually Unbiased Basis\n",
    "# @markdown in this block we obtain the third mutually unbiased basis for the states generation.\n",
    "\n",
    "def mub3(nProj):\n",
    "  from numpy import linspace, sort, array, kron\n",
    "\n",
    "  mubsN = linspace(0,35,nProj,dtype=int)\n",
    "  mub = mubpom()\n",
    "  mub2 = array([kron(mub[i],mub[j])/9 for i in range(6) for j in range(6)])\n",
    "  mub3 = array([ mub2[n] for n in sort(mubsN[0:nProj]) ])\n",
    "  return mub3"
   ]
  },
  {
   "cell_type": "code",
   "execution_count": 6,
   "id": "3e68fd17",
   "metadata": {
    "execution": {
     "iopub.execute_input": "2023-10-26T05:26:41.014819Z",
     "iopub.status.busy": "2023-10-26T05:26:41.014547Z",
     "iopub.status.idle": "2023-10-26T05:26:41.019104Z",
     "shell.execute_reply": "2023-10-26T05:26:41.018288Z"
    },
    "id": "Tiw_77GdOF3L",
    "papermill": {
     "duration": 0.012604,
     "end_time": "2023-10-26T05:26:41.021024",
     "exception": false,
     "start_time": "2023-10-26T05:26:41.008420",
     "status": "completed"
    },
    "tags": []
   },
   "outputs": [],
   "source": [
    "# @title Stokes from $\\rho$\n",
    "\n",
    "def stokes_from_rho(rho,A):\n",
    "  from numpy import shape, array, real, trace\n",
    "  l = shape(A)[0]\n",
    "  return array([ real(trace(rho@A[n])) for n in range(l) ])"
   ]
  },
  {
   "cell_type": "code",
   "execution_count": 7,
   "id": "dcd6f2bb",
   "metadata": {
    "execution": {
     "iopub.execute_input": "2023-10-26T05:26:41.032539Z",
     "iopub.status.busy": "2023-10-26T05:26:41.032285Z",
     "iopub.status.idle": "2023-10-26T05:26:41.037576Z",
     "shell.execute_reply": "2023-10-26T05:26:41.036652Z"
    },
    "id": "H0fNBisCO1t_",
    "papermill": {
     "duration": 0.013264,
     "end_time": "2023-10-26T05:26:41.039462",
     "exception": false,
     "start_time": "2023-10-26T05:26:41.026198",
     "status": "completed"
    },
    "tags": []
   },
   "outputs": [],
   "source": [
    "# @title $\\rho$ from Stokes\n",
    "\n",
    "def rho_from_stokes(stokes, A, dim):\n",
    "  from numpy import shape, identity, sum\n",
    "\n",
    "  l = shape(A)[0]\n",
    "  return 1/dim*(identity(dim)+sum([stokes[i]*A[i] for i in range(l)],axis=0))"
   ]
  },
  {
   "cell_type": "code",
   "execution_count": 8,
   "id": "047ed6b9",
   "metadata": {
    "execution": {
     "iopub.execute_input": "2023-10-26T05:26:41.051158Z",
     "iopub.status.busy": "2023-10-26T05:26:41.050900Z",
     "iopub.status.idle": "2023-10-26T05:26:41.055873Z",
     "shell.execute_reply": "2023-10-26T05:26:41.055100Z"
    },
    "id": "iL7U2qIhRws0",
    "papermill": {
     "duration": 0.012921,
     "end_time": "2023-10-26T05:26:41.057623",
     "exception": false,
     "start_time": "2023-10-26T05:26:41.044702",
     "status": "completed"
    },
    "tags": []
   },
   "outputs": [],
   "source": [
    "# @title Probability Distribution\n",
    "# @markdown In this block we define a function to get the probability distribution.\n",
    "\n",
    "def probdists(rho0, povm):\n",
    "  \"\"\"Get probabilities from quantum state rho0 and POVM.\"\"\"\n",
    "  from numpy import shape, array, real, trace, sum\n",
    "\n",
    "  l = shape(povm)[0]\n",
    "  probtrue = array([real(trace(rho0@povm[i])) for i in range(l)])\n",
    "  probtrue = probtrue/sum(probtrue)\n",
    "  return probtrue"
   ]
  },
  {
   "cell_type": "code",
   "execution_count": 9,
   "id": "a2a27757",
   "metadata": {
    "execution": {
     "iopub.execute_input": "2023-10-26T05:26:41.069169Z",
     "iopub.status.busy": "2023-10-26T05:26:41.068924Z",
     "iopub.status.idle": "2023-10-26T05:26:41.075192Z",
     "shell.execute_reply": "2023-10-26T05:26:41.074364Z"
    },
    "id": "7SvZVnCqSYz9",
    "papermill": {
     "duration": 0.013914,
     "end_time": "2023-10-26T05:26:41.076980",
     "exception": false,
     "start_time": "2023-10-26T05:26:41.063066",
     "status": "completed"
    },
    "tags": []
   },
   "outputs": [],
   "source": [
    "# @title Concurrence\n",
    "# @markdown In this block we define a function to get the real concurrence.\n",
    "\n",
    "def conc(A):\n",
    "  \"\"\"Get the real concurrence of an state.\"\"\"\n",
    "  from numpy import kron, conjugate, real, sort\n",
    "  import numpy.linalg as la\n",
    "  import scipy.linalg as sa\n",
    "\n",
    "  s = pauli()\n",
    "  s2 = kron(s[2],s[2])\n",
    "  At = (s2@conjugate(A))@s2\n",
    "  As = sa.sqrtm(A)\n",
    "  R = sa.sqrtm((As@At)@As)\n",
    "  eigval = real(sort(la.eig(R.astype(complex))[0])[::-1])\n",
    "  return max(0,eigval[0]-(eigval[1]+eigval[2]+eigval[3]))"
   ]
  },
  {
   "cell_type": "code",
   "execution_count": 10,
   "id": "92607cae",
   "metadata": {
    "execution": {
     "iopub.execute_input": "2023-10-26T05:26:41.088541Z",
     "iopub.status.busy": "2023-10-26T05:26:41.088286Z",
     "iopub.status.idle": "2023-10-26T05:26:41.097551Z",
     "shell.execute_reply": "2023-10-26T05:26:41.096669Z"
    },
    "id": "GqwE7TOqT5mI",
    "papermill": {
     "duration": 0.017062,
     "end_time": "2023-10-26T05:26:41.099407",
     "exception": false,
     "start_time": "2023-10-26T05:26:41.082345",
     "status": "completed"
    },
    "tags": []
   },
   "outputs": [],
   "source": [
    "# @title Herbasis\n",
    "\n",
    "def herbasis(dim):\n",
    "  from numpy import zeros, identity, dot, transpose, stack, concatenate\n",
    "\n",
    "  pom1 = zeros([1,dim,dim])+1j*zeros([1,dim,dim])\n",
    "  pom1[0] = identity(dim)\n",
    "  arrays = [dot(transpose(pom1[0][[i]]),pom1[0][[i]]) for i in range(dim-1)]\n",
    "  pom = stack(arrays,axis=0)\n",
    "  her = concatenate((pom1,pom),axis=0)\n",
    "  arrays = [dot(transpose(her[0][[i]]),her[0][[j]])+dot(transpose(her[0][[j]]),her[0][[i]]) for i in range(dim) for j in range(i+1,dim)]\n",
    "  pom = stack(arrays,axis=0)\n",
    "  her = concatenate((her,pom),axis=0)\n",
    "  arrays = [-1j*dot(transpose(her[0][[i]]),her[0][[j]])+1j*dot(transpose(her[0][[j]]),her[0][[i]]) for i in range(dim) for j in range(i+1,dim)]\n",
    "  pom = stack(arrays,axis=0)\n",
    "  pom = concatenate((her,pom),axis=0)\n",
    "  return pom"
   ]
  },
  {
   "cell_type": "code",
   "execution_count": 11,
   "id": "75b386c1",
   "metadata": {
    "execution": {
     "iopub.execute_input": "2023-10-26T05:26:41.111345Z",
     "iopub.status.busy": "2023-10-26T05:26:41.111086Z",
     "iopub.status.idle": "2023-10-26T05:26:41.116502Z",
     "shell.execute_reply": "2023-10-26T05:26:41.115648Z"
    },
    "id": "WRhtNl0zUOk7",
    "papermill": {
     "duration": 0.013584,
     "end_time": "2023-10-26T05:26:41.118372",
     "exception": false,
     "start_time": "2023-10-26T05:26:41.104788",
     "status": "completed"
    },
    "tags": []
   },
   "outputs": [],
   "source": [
    "# @title Pauli for Learning\n",
    "\n",
    "def pauli_for_learning(nProj):\n",
    "  from numpy import linspace, kron, array, sort\n",
    "\n",
    "  mubsN = linspace(0,35,nProj,dtype=int)\n",
    "  mub = mubpom()\n",
    "  mub2 = array([kron(mub[i],mub[j])/9 for i in range(6) for j in range(6)])\n",
    "  mub3 = array([ mub2[n] for n in sort(mubsN[0:nProj]) ])\n",
    "  return mub3"
   ]
  },
  {
   "cell_type": "code",
   "execution_count": 12,
   "id": "efd7de6e",
   "metadata": {
    "execution": {
     "iopub.execute_input": "2023-10-26T05:26:41.130523Z",
     "iopub.status.busy": "2023-10-26T05:26:41.129768Z",
     "iopub.status.idle": "2023-10-26T05:26:41.135427Z",
     "shell.execute_reply": "2023-10-26T05:26:41.134763Z"
    },
    "id": "sIjl2lUtUk7H",
    "papermill": {
     "duration": 0.013385,
     "end_time": "2023-10-26T05:26:41.137184",
     "exception": false,
     "start_time": "2023-10-26T05:26:41.123799",
     "status": "completed"
    },
    "tags": []
   },
   "outputs": [],
   "source": [
    "# @title Gellmann\n",
    "\n",
    "def gellmann(Q,dim):\n",
    "  from numpy import zeros, trace, sqrt\n",
    "\n",
    "  q = zeros([dim**2,dim,dim])+1j*zeros([dim**2,dim,dim])\n",
    "  for i in range(dim**2):\n",
    "    v = Q[i]\n",
    "    for j in range(0,i):\n",
    "      v = v-trace(v@q[j])*q[j]\n",
    "    q[i] = v/sqrt(trace(v@v))\n",
    "  return q"
   ]
  },
  {
   "cell_type": "code",
   "execution_count": 13,
   "id": "c2741b27",
   "metadata": {
    "execution": {
     "iopub.execute_input": "2023-10-26T05:26:41.149418Z",
     "iopub.status.busy": "2023-10-26T05:26:41.149154Z",
     "iopub.status.idle": "2023-10-26T05:26:41.162445Z",
     "shell.execute_reply": "2023-10-26T05:26:41.161611Z"
    },
    "id": "f-1Eq43ZL9u0",
    "papermill": {
     "duration": 0.021484,
     "end_time": "2023-10-26T05:26:41.164331",
     "exception": false,
     "start_time": "2023-10-26T05:26:41.142847",
     "status": "completed"
    },
    "tags": []
   },
   "outputs": [],
   "source": [
    "# @title Data generation function\n",
    "# @markdown This blocks defines a function which generates data for the number of states given.\n",
    "\n",
    "def data_gen(quantity, mub3, dim):\n",
    "  \"\"\"Generate the data to train a network.\"\"\"\n",
    "  from numpy import cbrt, random, arange, concatenate, sqrt, array\n",
    "\n",
    "  Q = herbasis(dim)\n",
    "  G_all = gellmann(Q,dim)*sqrt(dim)\n",
    "  G = G_all[1::]\n",
    "\n",
    "  srmPOMs = array([ mub3 for k in range(quantity) ])\n",
    "\n",
    "  radius_list=cbrt(cbrt(cbrt(random.rand(int(quantity/5)))))\n",
    "  rhon = random_haar_pure_state(4,int(quantity/5))\n",
    "  stokes_list = array([ radius_list[n]*stokes_from_rho(rhon[n], G) for n in range(int(quantity/5)) ])\n",
    "  rhoList1 = array([ rho_from_stokes(stokes_list[n], G, dim) for n in range(int(quantity/5)) ])\n",
    "\n",
    "  rhoR1 = array([random_haar_state(4,1) for k in range(int(quantity/5))])\n",
    "  rhoR2 = array([random_haar_state(4,2) for k in range(int(quantity/5))])\n",
    "  rhoR3 = array([random_haar_state(4,3) for k in range(int(quantity/5))])\n",
    "  rhoR4 = array([random_haar_state(4,4) for k in range(int(quantity/5))])\n",
    "  rho_list = concatenate((rhoList1, rhoR1,rhoR2, rhoR3, rhoR4))\n",
    "\n",
    "  indxs = random.shuffle(arange(quantity))\n",
    "  rho_list = rho_list[indxs][0]\n",
    "\n",
    "  # ~ concurrence\n",
    "  y_train = array([conc(rho_list[n]) for n in range(int(4*quantity/5))])\n",
    "  y_val = array([conc(rho_list[n]) for n in range(int(4*quantity/5), quantity)])\n",
    "\n",
    "  # ~ probabilities\n",
    "  probListSRM = array([ probdists(rho_list[n],srmPOMs[n]) for n in range(quantity)])\n",
    "\n",
    "\n",
    "  x_train = array([probdists(rho_list[n],srmPOMs[n]) for n in range(int(4*quantity/5))])\n",
    "  x_val = array([probdists(rho_list[n],srmPOMs[n]) for n in range(int(4*quantity/5),quantity)])\n",
    "\n",
    "  return x_train,x_val,y_train,y_val"
   ]
  },
  {
   "cell_type": "markdown",
   "id": "50c15356",
   "metadata": {
    "id": "gw6jHkcrH6wq",
    "papermill": {
     "duration": 0.006633,
     "end_time": "2023-10-26T05:26:41.176187",
     "exception": false,
     "start_time": "2023-10-26T05:26:41.169554",
     "status": "completed"
    },
    "tags": []
   },
   "source": [
    "# Measurement Specific DNN\n",
    "\n",
    "In this section we set and utilize the deep neural network designed for the measurement specific case."
   ]
  },
  {
   "cell_type": "code",
   "execution_count": 14,
   "id": "79f1a4b7",
   "metadata": {
    "execution": {
     "iopub.execute_input": "2023-10-26T05:26:41.188003Z",
     "iopub.status.busy": "2023-10-26T05:26:41.187747Z",
     "iopub.status.idle": "2023-10-26T05:26:41.197378Z",
     "shell.execute_reply": "2023-10-26T05:26:41.196505Z"
    },
    "id": "hW_4DnplIMFN",
    "papermill": {
     "duration": 0.017709,
     "end_time": "2023-10-26T05:26:41.199371",
     "exception": false,
     "start_time": "2023-10-26T05:26:41.181662",
     "status": "completed"
    },
    "tags": []
   },
   "outputs": [],
   "source": [
    "# @title Model Definition\n",
    "# @markdown This block defines the DNN model using Keras utility functions.\n",
    "\n",
    "def measurement_specific_dnn(nProj):\n",
    "  \"\"\"Return a new model without training for the measurement specific case.\n",
    "\n",
    "  Parameters\n",
    "  ----------\n",
    "\n",
    "  - `nProj` : integer\n",
    "      The number of projectors as the input shape.\"\"\"\n",
    "  import keras\n",
    "\n",
    "  model = keras.Sequential()\n",
    "\n",
    "  model.add(keras.layers.Dense(100,\n",
    "    input_shape=(nProj,),\n",
    "    activation=\"relu\",\n",
    "    kernel_initializer=keras.initializers.glorot_normal(seed=42)\n",
    "  ))\n",
    "\n",
    "  model.add(keras.layers.Dense(120, activation=\"relu\", kernel_initializer=keras.initializers.glorot_normal(seed=42)))\n",
    "  model.add(keras.layers.Dense(80, activation=\"relu\", kernel_initializer=keras.initializers.glorot_normal(seed=42)))\n",
    "  model.add(keras.layers.Dense(70, activation=\"relu\", kernel_initializer=keras.initializers.glorot_normal(seed=42)))\n",
    "  model.add(keras.layers.Dense(60, activation=\"relu\", kernel_initializer=keras.initializers.glorot_normal(seed=42)))\n",
    "  model.add(keras.layers.Dense(50, activation=\"relu\", kernel_initializer=keras.initializers.glorot_normal(seed=42)))\n",
    "  model.add(keras.layers.Dense(40, activation=\"relu\", kernel_initializer=keras.initializers.glorot_normal(seed=42)))\n",
    "\n",
    "  model.add(keras.layers.Dense(1, activation=\"sigmoid\", kernel_initializer=keras.initializers.glorot_normal(seed=42)))\n",
    "\n",
    "  model.compile(loss=\"mse\", optimizer=\"Nadam\", metrics=[\"mean_absolute_error\"])\n",
    "\n",
    "  return model"
   ]
  },
  {
   "cell_type": "code",
   "execution_count": 15,
   "id": "891d2f71",
   "metadata": {
    "execution": {
     "iopub.execute_input": "2023-10-26T05:26:41.211694Z",
     "iopub.status.busy": "2023-10-26T05:26:41.211426Z",
     "iopub.status.idle": "2023-10-26T05:26:41.224095Z",
     "shell.execute_reply": "2023-10-26T05:26:41.223103Z"
    },
    "id": "V9hWH8AvXNiA",
    "papermill": {
     "duration": 0.020855,
     "end_time": "2023-10-26T05:26:41.225967",
     "exception": false,
     "start_time": "2023-10-26T05:26:41.205112",
     "status": "completed"
    },
    "tags": []
   },
   "outputs": [],
   "source": [
    "# @title Model Training\n",
    "# @markdown In this section we define the training strategy for the DNN.\n",
    "\n",
    "def train_measurement_specific_dnn():\n",
    "  from numpy.lib.npyio import savez\n",
    "  from keras.callbacks import ModelCheckpoint\n",
    "  from numpy import array\n",
    "\n",
    "  nProjAll = 19\n",
    "  pom = array(range(1,nProjAll))[::-1]\n",
    "\n",
    "  dictModel={}\n",
    "  for k in pom:\n",
    "      dictModel[str(k)]=\"model_concurrence_R0_\" + str(2*k)\n",
    "\n",
    "  dictBestModel={}\n",
    "  for k in pom:\n",
    "      dictBestModel[str(k)]=\"best_model_concurrence_R0_\" + str(2*k)\n",
    "\n",
    "  dim = 4\n",
    "\n",
    "  kk = 1\n",
    "  nProj = 2*kk\n",
    "  print(\"nProj = \", nProj)\n",
    "\n",
    "  mub3 = pauli_for_learning(nProj)\n",
    "  savez(\"mub3_\" + str(nProj), mub3=mub3)\n",
    "\n",
    "  x_train,x_val,y_train,y_val = data_gen(150000, mub3, dim)\n",
    "\n",
    "  batch_size = 500\n",
    "  epochs = 50\n",
    "\n",
    "  bestModel = measurement_specific_dnn(nProj)\n",
    "  bestMAE = bestModel.fit(\n",
    "    x_train, y_train,\n",
    "    batch_size=batch_size,\n",
    "    epochs=epochs,\n",
    "    verbose=0,\n",
    "    validation_data=(x_val, y_val)\n",
    "  )\n",
    "  bestModel.save(dictModel[str(kk)]+\".keras\")\n",
    "\n",
    "  for n in range(5):\n",
    "    print(n)\n",
    "    currentModel = measurement_specific_dnn(nProj)\n",
    "    currentMAE = bestModel.fit(\n",
    "      x_train, y_train,\n",
    "      batch_size=batch_size,\n",
    "      epochs=epochs,\n",
    "      verbose=0,\n",
    "      validation_data=(x_val, y_val)\n",
    "    )\n",
    "    if currentMAE.history[\"val_mean_absolute_error\"][-1]<bestMAE.history[\"val_mean_absolute_error\"][-1]:\n",
    "      bestMAE=currentMAE\n",
    "      bestModel=currentModel\n",
    "      bestModel.save(dictModel[str(kk)]+\".keras\")\n",
    "\n",
    "  print(bestMAE.history[\"val_mean_absolute_error\"][-1])\n",
    "\n",
    "  x_train,x_val,y_train,y_val = data_gen(750000,mub3,dim)\n",
    "\n",
    "  filepath=dictBestModel[str(kk)]+\".keras\"\n",
    "\n",
    "  checkpoint = ModelCheckpoint(filepath, monitor=\"val_mean_absolute_error\", verbose=0, save_best_only=True, mode=\"min\")\n",
    "  callbacks_list = [checkpoint]\n",
    "\n",
    "  history = bestModel.fit(x_train, y_train,\n",
    "    batch_size=100,\n",
    "    epochs=1000,\n",
    "    verbose=0,\n",
    "    validation_data=(x_val, y_val),\n",
    "    callbacks = callbacks_list)\n",
    "\n",
    "  print(history.history[\"val_mean_absolute_error\"][-1])"
   ]
  },
  {
   "cell_type": "code",
   "execution_count": null,
   "id": "bcea8c6c",
   "metadata": {
    "execution": {
     "iopub.execute_input": "2023-10-26T05:26:41.238678Z",
     "iopub.status.busy": "2023-10-26T05:26:41.238069Z",
     "iopub.status.idle": "2023-10-26T13:52:51.133383Z",
     "shell.execute_reply": "2023-10-26T13:52:51.132451Z"
    },
    "papermill": {
     "duration": 30369.909915,
     "end_time": "2023-10-26T13:52:51.141378",
     "exception": false,
     "start_time": "2023-10-26T05:26:41.231463",
     "status": "completed"
    },
    "scrolled": false,
    "tags": []
   },
   "outputs": [],
   "source": [
    "train_measurement_specific_dnn()"
   ]
  }
 ],
 "metadata": {
  "kernelspec": {
   "display_name": "Python 3 (ipykernel)",
   "language": "python",
   "name": "python3"
  },
  "language_info": {
   "codemirror_mode": {
    "name": "ipython",
    "version": 3
   },
   "file_extension": ".py",
   "mimetype": "text/x-python",
   "name": "python",
   "nbconvert_exporter": "python",
   "pygments_lexer": "ipython3",
   "version": "3.11.2"
  },
  "papermill": {
   "default_parameters": {},
   "duration": 30378.37188,
   "end_time": "2023-10-26T13:52:54.595079",
   "environment_variables": {},
   "exception": null,
   "input_path": "__notebook__.ipynb",
   "output_path": "__notebook__.ipynb",
   "parameters": {},
   "start_time": "2023-10-26T05:26:36.223199",
   "version": "2.4.0"
  }
 },
 "nbformat": 4,
 "nbformat_minor": 5
}
