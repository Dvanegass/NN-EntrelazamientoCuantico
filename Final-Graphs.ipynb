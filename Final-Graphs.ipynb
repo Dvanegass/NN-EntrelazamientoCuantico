{
 "cells": [
  {
   "cell_type": "markdown",
   "metadata": {
    "execution": {
     "iopub.execute_input": "2023-12-06T14:19:21.384310Z",
     "iopub.status.busy": "2023-12-06T14:19:21.383598Z",
     "iopub.status.idle": "2023-12-06T14:19:21.407720Z",
     "shell.execute_reply": "2023-12-06T14:19:21.406589Z",
     "shell.execute_reply.started": "2023-12-06T14:19:21.384274Z"
    }
   },
   "source": [
    "Based on the github repository by Koutny et all at https://github.com/dkoutny/DeepEntanglement"
   ]
  },
  {
   "cell_type": "code",
   "execution_count": null,
   "metadata": {
    "execution": {
     "iopub.execute_input": "2023-11-14T15:15:41.553896Z",
     "iopub.status.busy": "2023-11-14T15:15:41.553343Z",
     "iopub.status.idle": "2023-11-14T15:15:41.560623Z",
     "shell.execute_reply": "2023-11-14T15:15:41.559373Z",
     "shell.execute_reply.started": "2023-11-14T15:15:41.553842Z"
    }
   },
   "outputs": [],
   "source": [
    "from numpy import *\n",
    "from numpy import linalg as la\n",
    "from scipy import linalg as sa\n",
    "\n",
    "import matplotlib.pyplot as plt"
   ]
  },
  {
   "cell_type": "code",
   "execution_count": null,
   "metadata": {
    "execution": {
     "iopub.execute_input": "2023-11-14T15:15:44.820221Z",
     "iopub.status.busy": "2023-11-14T15:15:44.819766Z",
     "iopub.status.idle": "2023-11-14T15:16:00.648190Z",
     "shell.execute_reply": "2023-11-14T15:16:00.646864Z",
     "shell.execute_reply.started": "2023-11-14T15:15:44.820188Z"
    }
   },
   "outputs": [],
   "source": [
    "from tensorflow.keras.models import load_model"
   ]
  },
  {
   "cell_type": "code",
   "execution_count": null,
   "metadata": {
    "execution": {
     "iopub.execute_input": "2023-11-14T15:16:00.651722Z",
     "iopub.status.busy": "2023-11-14T15:16:00.650982Z",
     "iopub.status.idle": "2023-11-14T15:16:00.656787Z",
     "shell.execute_reply": "2023-11-14T15:16:00.655387Z",
     "shell.execute_reply.started": "2023-11-14T15:16:00.651683Z"
    }
   },
   "outputs": [],
   "source": [
    "import pandas as pd"
   ]
  },
  {
   "cell_type": "code",
   "execution_count": null,
   "metadata": {
    "execution": {
     "iopub.execute_input": "2023-11-14T15:16:00.659033Z",
     "iopub.status.busy": "2023-11-14T15:16:00.658681Z",
     "iopub.status.idle": "2023-11-14T15:16:00.685136Z",
     "shell.execute_reply": "2023-11-14T15:16:00.683780Z",
     "shell.execute_reply.started": "2023-11-14T15:16:00.659002Z"
    }
   },
   "outputs": [],
   "source": [
    "def mubpom():\n",
    "    p1 = array([1,0])\n",
    "    p2 = array([0,1])\n",
    "    mub = zeros([6,1,2])+1j*zeros([6,1,2])\n",
    "    mub[0] = p1\n",
    "    mub[1] = p2\n",
    "    mub[2] = 1/sqrt(2)*(p1+p2)\n",
    "    mub[3] = 1/sqrt(2)*(p1-p2)\n",
    "    mub[4] = 1/sqrt(2)*(p1+1j*p2)\n",
    "    mub[5] = 1/sqrt(2)*(p1-1j*p2)\n",
    "    mubp = [transpose(mub[i])@conjugate(mub[i]) for i in range(6)]\n",
    "    return mubp\n",
    "\n",
    "def pauliK(data1,exc):\n",
    "    \"\"\"function pauliK takes full probability vector data1 and number of excluded projections exc and returns\"\"\"\n",
    "    \"\"\"probability vector data and projections with zeros in the appropriate places\"\"\"\n",
    "    data = data1/sum(data1)\n",
    "    mub = mubpom()\n",
    "    mubP = array([kron(mub[i],mub[j])/9 for i in range(6) for j in range(6) ])\n",
    "    myList=list(range(36))\n",
    "    random.shuffle(myList)\n",
    "    for i in myList[0:exc]:\n",
    "        mubP[i] = zeros([4,4],complex)\n",
    "        data[i] = 0\n",
    "    return data,mubP\n",
    "\n",
    "def concM(rrho):\n",
    "    \"\"\"Return the concurrence of a density matrix.\"\"\"\n",
    "    sigma2y = array([[0, 0, 0, -1], [0, 0, 1, 0], [0, 1, 0, 0], [-1, 0, 0, 0]])\n",
    "    rho_spinflipped = sigma2y @ rrho.conj() @ sigma2y\n",
    "    R = sa.sqrtm(sa.sqrtm(rrho) @ rho_spinflipped @ sa.sqrtm(rrho))\n",
    "    R_eigen = la.eig(R)[0]\n",
    "    R_eigen = sort(R_eigen)[::-1]\n",
    "    concurrence = max([0, R_eigen[0] - sum(R_eigen[1:])])\n",
    "    # check_imag(concurrence)\n",
    "    return abs(concurrence)\n",
    "\n",
    "def MLalg(data, rhoinit,povm,epsilon,stop):\n",
    "    \"\"\"Regularized maximum likelihood iterative algorithm\"\"\"\n",
    "    rho = rhoinit\n",
    "    trdist = 1\n",
    "    k = 0\n",
    "    pomS = zeros([4,4], complex)\n",
    "    for n in range(shape(povm)[0]): pomS = pomS + povm[n]\n",
    "#     Gop = sa.fractional_matrix_power(pomS,-1/2)\n",
    "    Gop = sa.pinv(sa.fractional_matrix_power(pomS,1/2))\n",
    "    while trdist > epsilon and k<stop:\n",
    "        R = zeros([4,4], complex)\n",
    "        prob = probdists(rho,povm)\n",
    "        for i in range(shape(povm)[0]):\n",
    "            if data[i]>10**(-10):\n",
    "                R += data[i]/prob[i]*povm[i]\n",
    "        rhonew = dot(dot(Gop,dot(R,rho)),dot(R,Gop))\n",
    "        rhonew = rhonew/trace(rhonew)\n",
    "        trdist = trace(dot((rho-rhonew),(rho-rhonew)))\n",
    "        rho = rhonew\n",
    "        k+=1\n",
    "    return rho\n",
    "def generate_werner_states(n):\n",
    "    \"\"\"\n",
    "    Generates an array of Werner states with the parameter p varying from 0.0 to 1.0 in steps of 0.1.\n",
    "    \"\"\"\n",
    "    # Define the Bell state |Psi_minus> in a 4x4 density matrix form\n",
    "    psi_minus = array([[0, 0, 0, 0], [0, 1, -1, 0], [0, -1, 1, 0], [0, 0, 0, 0]]) / 2\n",
    "    identity_matrix = identity(4)\n",
    "\n",
    "    # Create Werner states\n",
    "    p_values = linspace(0, 1, n)  # Linearly spaced values for p\n",
    "    werner_states = [p * psi_minus + (1 - p)/4 * identity_matrix for p in p_values]\n",
    "\n",
    "    return array(werner_states)"
   ]
  },
  {
   "cell_type": "code",
   "execution_count": null,
   "metadata": {
    "execution": {
     "iopub.execute_input": "2023-11-14T15:16:00.689690Z",
     "iopub.status.busy": "2023-11-14T15:16:00.688208Z",
     "iopub.status.idle": "2023-11-14T15:16:00.706957Z",
     "shell.execute_reply": "2023-11-14T15:16:00.705408Z",
     "shell.execute_reply.started": "2023-11-14T15:16:00.689629Z"
    }
   },
   "outputs": [],
   "source": [
    "mub = mubpom()\n",
    "mub2 = array([kron(mub[i],mub[j])/9 for i in range(6) for j in range(6)])"
   ]
  },
  {
   "cell_type": "markdown",
   "metadata": {},
   "source": [
    "**Datos Werner:**"
   ]
  },
  {
   "cell_type": "code",
   "execution_count": null,
   "metadata": {
    "execution": {
     "iopub.execute_input": "2023-11-14T15:16:22.389053Z",
     "iopub.status.busy": "2023-11-14T15:16:22.388559Z",
     "iopub.status.idle": "2023-11-14T15:16:25.008041Z",
     "shell.execute_reply": "2023-11-14T15:16:25.006668Z",
     "shell.execute_reply.started": "2023-11-14T15:16:22.389017Z"
    }
   },
   "outputs": [],
   "source": [
    "nR=0\n",
    "dim=4\n",
    "def nMubs(nProj):\n",
    "    mubsN = linspace(0,35,nProj,dtype=int)\n",
    "    mub = mubpom()\n",
    "    mub2 = array([kron(mub[i],mub[j])/9 for i in range(6) for j in range(6)])\n",
    "    mub3 = array([ mub2[n] for n in mubsN ])\n",
    "    return mub3\n",
    "\n",
    "def probdists(rho0, povm):\n",
    "  \"\"\"Get probabilities from quantum state rho0 and POVM.\"\"\"\n",
    "  from numpy import shape, array, real, trace, sum\n",
    "\n",
    "  l = shape(povm)[0]\n",
    "  probtrue = array([real(trace(rho0@povm[i])) for i in range(l)])\n",
    "  probtrue = probtrue/sum(probtrue)\n",
    "  return probtrue\n",
    "def generate_werner_states(n):\n",
    "    \"\"\"\n",
    "    Generates an array of Werner states with the parameter p varying from 0.0 to 1.0 in steps of 0.1.\n",
    "    \"\"\"\n",
    "    # Define the Bell state |Psi_minus> in a 4x4 density matrix form\n",
    "    psi_minus = array([[0, 0, 0, 0], [0, 1, -1, 0], [0, -1, 1, 0], [0, 0, 0, 0]]) / 2\n",
    "    identity_matrix = identity(4)\n",
    "\n",
    "    # Create Werner states\n",
    "    p_values = linspace(0, 1, n)  # Linearly spaced values for p\n",
    "    werner_states = [p * psi_minus + (1 - p)/4 * identity_matrix for p in p_values]\n",
    "\n",
    "    return array(werner_states)\n",
    "def stokes_from_rho(rho, A):\n",
    "    from numpy import shape, array, real, trace\n",
    "\n",
    "    l = shape(A)[0]\n",
    "    return array([real(trace(rho @ A[n])) for n in range(l)])\n",
    "def gellmann(Q, dim):\n",
    "    from numpy import zeros, trace, sqrt\n",
    "\n",
    "    q = zeros([dim**2, dim, dim]) + 1j * zeros([dim**2, dim, dim])\n",
    "    for i in range(dim**2):\n",
    "        v = Q[i]\n",
    "        for j in range(0, i):\n",
    "            v = v - trace(v @ q[j]) * q[j]\n",
    "        q[i] = v / sqrt(trace(v @ v))\n",
    "    return q\n",
    "def herbasis(dim):\n",
    "    from numpy import zeros, identity, dot, transpose, stack, concatenate\n",
    "\n",
    "    pom1 = zeros([1, dim, dim]) + 1j * zeros([1, dim, dim])\n",
    "    pom1[0] = identity(dim)\n",
    "    arrays = [dot(transpose(pom1[0][[i]]), pom1[0][[i]]) for i in range(dim - 1)]\n",
    "    pom = stack(arrays, axis=0)\n",
    "    her = concatenate((pom1, pom), axis=0)\n",
    "    arrays = [\n",
    "        dot(transpose(her[0][[i]]), her[0][[j]])\n",
    "        + dot(transpose(her[0][[j]]), her[0][[i]])\n",
    "        for i in range(dim)\n",
    "        for j in range(i + 1, dim)\n",
    "    ]\n",
    "    pom = stack(arrays, axis=0)\n",
    "    her = concatenate((her, pom), axis=0)\n",
    "    arrays = [\n",
    "        -1j * dot(transpose(her[0][[i]]), her[0][[j]])\n",
    "        + 1j * dot(transpose(her[0][[j]]), her[0][[i]])\n",
    "        for i in range(dim)\n",
    "        for j in range(i + 1, dim)\n",
    "    ]\n",
    "    pom = stack(arrays, axis=0)\n",
    "    pom = concatenate((her, pom), axis=0)\n",
    "    return pom\n",
    "\n",
    "#--------------------------------------------------------------------------------------------------------------\n",
    "#Measurement Specific\n",
    "\n",
    "ks=[4,9,14,18]\n",
    "tablaFinal=[]\n",
    "\n",
    "quantity=11\n",
    "dataWS = generate_werner_states(quantity)\n",
    "\n",
    "for k in ks:\n",
    "    nProj=2*k\n",
    "\n",
    "    dictBestModel={}\n",
    "    dictBestModel[str(k)]='/kaggle/input/specdnnsmodels/best_model_concurrence_R0_'+str(2*k)\n",
    "    model = load_model(dictBestModel[str(k)]+'.keras',compile=False)\n",
    "\n",
    "\n",
    "    file1 = load('/kaggle/input/specdnnsmodels/mub3_'+str(2*k)+\".npz\")\n",
    "    mub3 = file1['mub3']\n",
    "    srmPOMs = array([ mub3 for k in range(quantity) ])\n",
    "\n",
    "    probListSRM = array([ probdists(dataWS[n],srmPOMs[n]) for n in range(quantity)])\n",
    "    tabla=model.predict(probListSRM)\n",
    "    tablaFinal.append(tabla)\n",
    "\n",
    "\n",
    "tablaFinalMS=hstack(tablaFinal)\n",
    "savetxt('concWsR0v7.txt', tablaFinalMS, fmt='%s')\n",
    "\n",
    "#--------------------------------------------------------------------------------------------------------------\n",
    "#Measurement Independent\n",
    "\n",
    "tablaFinalMI=[]\n",
    "modelMI = load_model('/kaggle/input/independant-model/bestModelConcHaar.tf',compile=False)\n",
    "\n",
    "Q = herbasis(dim)\n",
    "G_all = gellmann(Q, dim) * sqrt(dim)\n",
    "G = G_all[1::]\n",
    "\n",
    "stokesFromPOMs = array([array([stokes_from_rho(srmPOMs[n][m], G_all) for m in range(nProj)])for n in range(quantity)])\n",
    "\n",
    "ksMI=[18,14,9,4]\n",
    "for k in ksMI:\n",
    "    nProjMI=2*k\n",
    "    \n",
    "    file2 = load('/kaggle/input/specdnnsmodels/mub3_'+str(2*k)+\".npz\")\n",
    "    \n",
    "    mub3MI = file2['mub3']\n",
    "    srmPOMsMI = array([ mub3MI for k in range(quantity) ])\n",
    "    \n",
    "    probListSRM_MI = array([ probdists(dataWS[n],srmPOMsMI[n]) for n in range(quantity)])\n",
    "    x = zeros([int(quantity), 17 * 36, 1])\n",
    "    for n in range(int(quantity)):\n",
    "        for i in range(nProjMI):\n",
    "            x[n, i * 17 : i * 17 + 16, 0] = stokesFromPOMs[n, i]\n",
    "            x[n, i * 17 + 16, 0] = probListSRM[n, i]\n",
    "            \n",
    "    tablaMI=modelMI.predict(x)\n",
    "    tablaFinalMI.append(tablaMI)\n",
    "\n",
    "tablaFinalMI=hstack(tablaFinalMI)\n",
    "savetxt('netPredWsSv9.txt', tablaFinalMI, fmt='%s')"
   ]
  },
  {
   "cell_type": "markdown",
   "metadata": {},
   "source": [
    "**Plots Werner:**"
   ]
  },
  {
   "cell_type": "code",
   "execution_count": null,
   "metadata": {
    "execution": {
     "iopub.execute_input": "2023-11-14T15:16:51.952987Z",
     "iopub.status.busy": "2023-11-14T15:16:51.952526Z",
     "iopub.status.idle": "2023-11-14T15:16:52.252245Z",
     "shell.execute_reply": "2023-11-14T15:16:52.250771Z",
     "shell.execute_reply.started": "2023-11-14T15:16:51.952956Z"
    }
   },
   "outputs": [],
   "source": [
    "\"\"\"concurrence of the Werner state\"\"\"\n",
    "\n",
    "xx = linspace(1,11,11,dtype=int)\n",
    "x = linspace(0,1,100)\n",
    "# concTrue = array([max(0,(3*n-1)/2) for n in x])\n",
    "\n",
    "# netSpecConc0 = loadtxt('/kaggle/input/data-for-figures/data_for_figures/WsState/concWsR0v7.txt')\n",
    "# netSpecConc1 = loadtxt('/kaggle/input/data-for-figures/data_for_figures/WsState/concWsR1v7.txt')\n",
    "# netSpecConc2 = loadtxt('/kaggle/input/data-for-figures/data_for_figures/WsState/concWsR2v7.txt')\n",
    "# netSpecConc3 = loadtxt('/kaggle/input/data-for-figures/data_for_figures/WsState/concWsR3v7.txt')\n",
    "# netSpecConc4 = loadtxt('/kaggle/input/data-for-figures/data_for_figures/WsState/concWsR4v7.txt')\n",
    "\n",
    "\n",
    "# netSC = dstack((netSpecConc0,netSpecConc1,netSpecConc2,netSpecConc3,netSpecConc4))\n",
    "# netSCMean = mean(netSpecConc0,axis=0)\n",
    "# netSCStd = std(netSC,axis=2)\n",
    "\n",
    "# netEvalConcM = loadtxt('/kaggle/input/data-for-figures/data_for_figures/WsState/netPredWsMv9.txt')\n",
    "# netEvalConcS = loadtxt('/kaggle/input/data-for-figures/data_for_figures/WsState/netPredWsSv9.txt')\n",
    "conMLwSM = loadtxt('/kaggle/input/data-for-figures/data_for_figures/WsState/mlPredWsMean.txt')\n",
    "# conMLwSS = loadtxt('/kaggle/input/data-for-figures/data_for_figures/WsState/mlPredWsStd.txt')\n",
    "\n",
    "#Our predictions:\n",
    "netSCMean = loadtxt('/kaggle/working/concWsR0v7.txt')\n",
    "netEvalConcM = loadtxt('/kaggle/working/netPredWsSv9.txt')\n",
    "\n",
    "\n",
    "\n",
    "\"\"\"k = 0,1,2,3 corresponds with 36,28,18,8 measurement settings used to estimate concurrence of the Werner state\"\"\"\n",
    "\n",
    "kk = 3\n",
    "\n",
    "concTrue = array([max(0,(3*n-1)/2) for n in x])\n",
    "\n",
    "plt.figure(figsize=(5.5, 4.5))\n",
    "\n",
    "# plt.fill_between(xx,conMLwSM[:,kk]+conMLwSS[:,kk],conMLwSM[:,kk]-conMLwSS[:,kk],alpha=0.15,color ='red',linewidth=0.0)\n",
    "# plt.fill_between(xx,netEvalConcM[:,kk]+netEvalConcS[:,kk],netEvalConcM[:,kk]-netEvalConcS[:,kk],alpha=0.15,color ='blue',linewidth=0.0)\n",
    "# plt.fill_between(xx,netSCMean[:,3-kk]+netSCStd[:,3-kk],netSCMean[:,3-kk]-netSCStd[:,3-kk],alpha=0.15,color ='green',linewidth=0.0)\n",
    "\n",
    "plt.plot(xx,conMLwSM[:,kk],'^-',color = 'red',label='RML')\n",
    "plt.plot(xx,netEvalConcM[:,kk],'s-',color = 'blue',label='Device indep.')\n",
    "plt.plot(xx,netSCMean[:,3-kk],'o-',color = 'green',label='Specific projs')\n",
    "plt.plot(x*10+1,concTrue,'-',color = 'brown',linewidth=\"3.0\",label='true val.')\n",
    "\n",
    "\n",
    "# plt.xlabel(r'p',fontsize=12)\n",
    "plt.xticks(array([ 1, 3, 5, 7, 9, 11]),array([0.0, 0.2, 0.4, 0.6, 0.8, 1. ]))\n",
    "\n",
    "\n",
    "plt.tick_params(axis='both', which='major', labelsize=22)\n",
    "plt.xlim([1,11])\n",
    "plt.ylim([0,1])\n",
    "\n",
    "# plt.savefig(('Werner36Proj.png'))"
   ]
  }
 ],
 "metadata": {
  "kaggle": {
   "accelerator": "none",
   "dataSources": [
    {
     "datasetId": 3990342,
     "sourceId": 6948008,
     "sourceType": "datasetVersion"
    },
    {
     "datasetId": 3993347,
     "sourceId": 6952762,
     "sourceType": "datasetVersion"
    },
    {
     "datasetId": 3993368,
     "sourceId": 6952794,
     "sourceType": "datasetVersion"
    },
    {
     "datasetId": 4000231,
     "sourceId": 6963398,
     "sourceType": "datasetVersion"
    },
    {
     "datasetId": 4002627,
     "sourceId": 6966895,
     "sourceType": "datasetVersion"
    }
   ],
   "isGpuEnabled": false,
   "isInternetEnabled": true,
   "language": "python",
   "sourceType": "notebook"
  },
  "kernelspec": {
   "display_name": "Python 3 (ipykernel)",
   "language": "python",
   "name": "python3"
  },
  "language_info": {
   "codemirror_mode": {
    "name": "ipython",
    "version": 3
   },
   "file_extension": ".py",
   "mimetype": "text/x-python",
   "name": "python",
   "nbconvert_exporter": "python",
   "pygments_lexer": "ipython3",
   "version": "3.11.2"
  }
 },
 "nbformat": 4,
 "nbformat_minor": 4
}
